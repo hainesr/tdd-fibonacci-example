{
 "cells": [
  {
   "cell_type": "markdown",
   "metadata": {},
   "source": [
    "# Agile and Test-Driven Development\n",
    "\n",
    "## TDD Worked Example\n",
    "\n",
    "### Adapted from \"Test-Driven Development By Example\", Kent Beck"
   ]
  },
  {
   "cell_type": "markdown",
   "metadata": {},
   "source": [
    "# Introduction\n",
    "\n",
    "* Very simple example\n",
    "* Implement a function to return the *n*th number in the **Fibonacci** sequence\n",
    " * 0, 1, 1, 2, 3, 5, 8, 13, 21, 34, 55, 89, 144, 233, ...\n",
    " * http://oeis.org/A000045\n",
    "\n",
    "$\n",
    "F_0 = 0, \\\\\n",
    "F_1 = 1, \\\\\n",
    "F_n = F_{n-1} + F_{n-2}\n",
    "$"
   ]
  },
  {
   "cell_type": "markdown",
   "metadata": {},
   "source": [
    "# Step 0a: Local python setup\n",
    "\n",
    "*You need to do this if you're using python on the command line.*\n",
    "\n",
    "* Create two directories\n",
    " * ```src```\n",
    " * ```test```\n",
    "* Add the ```src``` directory to ```PYTHONPATH```\n",
    " ```\n",
    " $ export PYTHONPATH=`pwd`/src\n",
    " ```"
   ]
  },
  {
   "cell_type": "markdown",
   "metadata": {},
   "source": [
    "# Step 0b: IPython setup\n",
    "\n",
    "*You need to do this if you're using this IPython Notebook.*\n",
    "\n",
    "The ```run_tests()``` method, below, is called at the end of each step to run the tests."
   ]
  },
  {
   "cell_type": "code",
   "execution_count": null,
   "metadata": {
    "collapsed": true
   },
   "outputs": [],
   "source": [
    "import unittest\n",
    "\n",
    "def run_tests():\n",
    "    suite = unittest.TestLoader().loadTestsFromTestCase(TestFibonacci)\n",
    "    unittest.TextTestRunner().run(suite)"
   ]
  },
  {
   "cell_type": "markdown",
   "metadata": {},
   "source": [
    "# Step 1: Write a test (and run it)"
   ]
  },
  {
   "cell_type": "code",
   "execution_count": null,
   "metadata": {
    "collapsed": false
   },
   "outputs": [],
   "source": [
    "class TestFibonacci(unittest.TestCase):\n",
    "\n",
    "    def test_fibonacci(self):\n",
    "        self.assertEqual(0, fibonacci(0), \"fibonacci(0) should equal 0\")\n",
    "\n",
    "run_tests()"
   ]
  },
  {
   "cell_type": "markdown",
   "metadata": {},
   "source": [
    "# Step 1: Implement and re-test"
   ]
  },
  {
   "cell_type": "code",
   "execution_count": null,
   "metadata": {
    "collapsed": false
   },
   "outputs": [],
   "source": [
    "def fibonacci(n):\n",
    "    return 0\n",
    "\n",
    "run_tests()"
   ]
  },
  {
   "cell_type": "markdown",
   "metadata": {},
   "source": [
    "# Step 2: Write a test (and run it)"
   ]
  },
  {
   "cell_type": "code",
   "execution_count": null,
   "metadata": {
    "collapsed": false
   },
   "outputs": [],
   "source": [
    "class TestFibonacci(unittest.TestCase):\n",
    "\n",
    "    def test_fibonacci(self):\n",
    "        self.assertEqual(0, fibonacci(0), \"fibonacci(0) should equal 0\")\n",
    "        self.assertEqual(1, fibonacci(1), \"fibonacci(1) should equal 1\")\n",
    "\n",
    "run_tests()"
   ]
  },
  {
   "cell_type": "markdown",
   "metadata": {},
   "source": [
    "# Step 2: Implement and re-test"
   ]
  },
  {
   "cell_type": "code",
   "execution_count": null,
   "metadata": {
    "collapsed": false
   },
   "outputs": [],
   "source": [
    "def fibonacci(n):\n",
    "    if n == 0: return 0\n",
    "    return 1\n",
    "\n",
    "run_tests()"
   ]
  },
  {
   "cell_type": "markdown",
   "metadata": {},
   "source": [
    "# Step 3: Write a test (and run it)"
   ]
  },
  {
   "cell_type": "code",
   "execution_count": null,
   "metadata": {
    "collapsed": false
   },
   "outputs": [],
   "source": [
    "class TestFibonacci(unittest.TestCase):\n",
    "\n",
    "    def test_fibonacci(self):\n",
    "        self.assertEqual(0, fibonacci(0), \"fibonacci(0) should equal 0\")\n",
    "        self.assertEqual(1, fibonacci(1), \"fibonacci(1) should equal 1\")\n",
    "        self.assertEqual(1, fibonacci(2), \"fibonacci(2) should equal 1\")\n",
    "\n",
    "run_tests()"
   ]
  },
  {
   "cell_type": "markdown",
   "metadata": {},
   "source": [
    "# Step 3: It works!\n",
    "\n",
    "The current code outputs 1 whenever n is not 0. So this behaviour *is correct*."
   ]
  },
  {
   "cell_type": "markdown",
   "metadata": {},
   "source": [
    "# Step 4: Write a test (and run it)"
   ]
  },
  {
   "cell_type": "code",
   "execution_count": null,
   "metadata": {
    "collapsed": false
   },
   "outputs": [],
   "source": [
    "class TestFibonacci(unittest.TestCase):\n",
    "\n",
    "    def test_fibonacci(self):\n",
    "        self.assertEqual(0, fibonacci(0), \"fibonacci(0) should equal 0\")\n",
    "        self.assertEqual(1, fibonacci(1), \"fibonacci(1) should equal 1\")\n",
    "        self.assertEqual(1, fibonacci(2), \"fibonacci(2) should equal 1\")\n",
    "        self.assertEqual(2, fibonacci(3), \"fibonacci(3) should equal 2\")\n",
    "\n",
    "run_tests()"
   ]
  },
  {
   "cell_type": "markdown",
   "metadata": {},
   "source": [
    "# Step 4: Implement and re-test"
   ]
  },
  {
   "cell_type": "code",
   "execution_count": null,
   "metadata": {
    "collapsed": false
   },
   "outputs": [],
   "source": [
    "def fibonacci(n):\n",
    "    if n == 0: return 0\n",
    "    if n <= 2: return 1\n",
    "    return 2\n",
    "\n",
    "run_tests()"
   ]
  },
  {
   "cell_type": "markdown",
   "metadata": {},
   "source": [
    "# Step 5: Write a test (and run it)"
   ]
  },
  {
   "cell_type": "code",
   "execution_count": null,
   "metadata": {
    "collapsed": false
   },
   "outputs": [],
   "source": [
    "class TestFibonacci(unittest.TestCase):\n",
    "\n",
    "    def test_fibonacci(self):\n",
    "        self.assertEqual(0, fibonacci(0), \"fibonacci(0) should equal 0\")\n",
    "        self.assertEqual(1, fibonacci(1), \"fibonacci(1) should equal 1\")\n",
    "        self.assertEqual(1, fibonacci(2), \"fibonacci(2) should equal 1\")\n",
    "        self.assertEqual(2, fibonacci(3), \"fibonacci(3) should equal 2\")\n",
    "        self.assertEqual(3, fibonacci(4), \"fibonacci(4) should equal 3\")\n",
    "\n",
    "run_tests()"
   ]
  },
  {
   "cell_type": "markdown",
   "metadata": {},
   "source": [
    "# Step 5: Implement and re-test"
   ]
  },
  {
   "cell_type": "code",
   "execution_count": null,
   "metadata": {
    "collapsed": false
   },
   "outputs": [],
   "source": [
    "def fibonacci(n):\n",
    "    if n == 0: return 0\n",
    "    if n <= 2: return 1\n",
    "    if n == 3: return 2\n",
    "    return 3\n",
    "\n",
    "run_tests()"
   ]
  },
  {
   "cell_type": "markdown",
   "metadata": {},
   "source": [
    "# Pause\n",
    "\n",
    "* How many tests are we going to write?\n",
    "* Just how big is the set of ```if``` statements going to get if we carry on like this?\n",
    "* Where do we stop?\n",
    "\n",
    "Remember:\n",
    "\n",
    "$\n",
    "F_0 = 0, \\\\\n",
    "F_1 = 1, \\\\\n",
    "F_n = F_{n-1} + F_{n-2}\n",
    "$\n",
    "\n",
    "*Can we reflect that in the code?*"
   ]
  },
  {
   "cell_type": "markdown",
   "metadata": {},
   "source": [
    "# Step 6: Refactor and test"
   ]
  },
  {
   "cell_type": "code",
   "execution_count": null,
   "metadata": {
    "collapsed": false
   },
   "outputs": [],
   "source": [
    "def fibonacci(n):\n",
    "    if n == 0: return 0\n",
    "    if n <= 2: return 1\n",
    "    if n == 3: return 2\n",
    "    return 2 + 1\n",
    "\n",
    "run_tests()"
   ]
  },
  {
   "cell_type": "markdown",
   "metadata": {},
   "source": [
    "# Step 7: Refactor and test"
   ]
  },
  {
   "cell_type": "code",
   "execution_count": null,
   "metadata": {
    "collapsed": false
   },
   "outputs": [],
   "source": [
    "def fibonacci(n):\n",
    "    if n == 0: return 0\n",
    "    if n <= 2: return 1\n",
    "    return fibonacci(n - 1) + fibonacci(n - 2)\n",
    "\n",
    "run_tests()"
   ]
  },
  {
   "cell_type": "markdown",
   "metadata": {},
   "source": [
    "# Step 8: Refactor and test (and done)"
   ]
  },
  {
   "cell_type": "code",
   "execution_count": null,
   "metadata": {
    "collapsed": false
   },
   "outputs": [],
   "source": [
    "def fibonacci(n):\n",
    "    if n == 0: return 0\n",
    "    if n == 1: return 1\n",
    "    return fibonacci(n - 1) + fibonacci(n - 2)\n",
    "\n",
    "run_tests()"
   ]
  },
  {
   "cell_type": "markdown",
   "metadata": {},
   "source": [
    "# The end"
   ]
  }
 ],
 "metadata": {
  "kernelspec": {
   "display_name": "Python 2",
   "language": "python",
   "name": "python2"
  },
  "language_info": {
   "codemirror_mode": {
    "name": "ipython",
    "version": 2
   },
   "file_extension": ".py",
   "mimetype": "text/x-python",
   "name": "python",
   "nbconvert_exporter": "python",
   "pygments_lexer": "ipython2",
   "version": "2.7.10"
  }
 },
 "nbformat": 4,
 "nbformat_minor": 0
}
